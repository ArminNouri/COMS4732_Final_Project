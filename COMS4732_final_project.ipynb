{
  "cells": [
    {
      "cell_type": "code",
      "execution_count": 1,
      "metadata": {
        "id": "6_Juxe3qdbQ5"
      },
      "outputs": [],
      "source": [
        "import numpy as np\n",
        "import cv2\n",
        "import os\n",
        "from tqdm import tqdm\n",
        "import glob\n",
        "import torch\n",
        "import torch.nn as nn\n",
        "import torch.optim as optim\n",
        "from torch.utils.data import Dataset, DataLoader, random_split\n",
        "\n",
        "\n"
      ]
    },
    {
      "cell_type": "markdown",
      "metadata": {
        "id": "WtwozPRfZCsc"
      },
      "source": [
        "normalization done in conjunction with paper under supplementary materials section"
      ]
    },
    {
      "cell_type": "code",
      "execution_count": 2,
      "metadata": {
        "colab": {
          "base_uri": "https://localhost:8080/"
        },
        "id": "RGuyvcFYZKAe",
        "outputId": "6f9c5374-c494-48fe-c243-e098030cc409"
      },
      "outputs": [],
      "source": [
        "dataset_path = 'W2S_raw/raw'  \n",
        "save_path = 'normalized_images'  \n",
        "\n",
        "# Function to process and save each normalized image individually\n",
        "def process_and_save_images(image_paths, mean_value, std_value, image_type):\n",
        "    os.makedirs(save_path, exist_ok=True)  \n",
        "   \n",
        "    for i, image_path in enumerate(tqdm(image_paths, desc=f'Processing {image_type} images')):\n",
        "        \n",
        "        image = np.load(image_path)\n",
        "        normalized_image = (image - mean_value) / std_value\n",
        "        filename = os.path.basename(image_path)\n",
        "        np.save(os.path.join(save_path, f'normalized_{image_type}_{filename}'), normalized_image)\n",
        "\n",
        "# Function to calculate mean and standard deviation from a set of image paths\n",
        "def calculate_mean_std(image_paths):\n",
        "    pixel_sum = 0\n",
        "    pixel_sum_squared = 0\n",
        "    pixel_count = 0\n",
        "\n",
        "    for image_path in tqdm(image_paths, desc='Calculating mean and std'):\n",
        "        image = np.load(image_path)\n",
        "        pixel_sum += np.sum(image)\n",
        "        pixel_sum_squared += np.sum(image ** 2)\n",
        "        pixel_count += image.size\n",
        "\n",
        "    mean_value = pixel_sum / pixel_count\n",
        "    std_value = np.sqrt(pixel_sum_squared / pixel_count - mean_value ** 2)\n",
        "\n",
        "    return mean_value, std_value\n"
      ]
    },
    {
      "cell_type": "code",
      "execution_count": 3,
      "metadata": {},
      "outputs": [],
      "source": [
        "\n",
        "# Find all the LR and HR image paths\n",
        "lr_image_paths = glob.glob(os.path.join(dataset_path, '**', 'wf_channel*.npy'), recursive=True)\n",
        "hr_image_paths = glob.glob(os.path.join(dataset_path, '**', 'sim_channel*.npy'), recursive=True)\n",
        "\n",
        "# Check that we found both LR and HR images\n",
        "if not lr_image_paths or not hr_image_paths:\n",
        "    raise ValueError(f\"No images found with pattern 'wf_channel*.npy' or 'sim_channel*.npy' in the directory {dataset_path}\")\n"
      ]
    },
    {
      "cell_type": "code",
      "execution_count": null,
      "metadata": {},
      "outputs": [],
      "source": [
        "\n",
        "# Calculate mean and std for LR images\n",
        "mean_value_lr, std_value_lr = calculate_mean_std(lr_image_paths)\n",
        "\n",
        "# Process and save normalized LR images\n",
        "process_and_save_images(lr_image_paths, mean_value_lr, std_value_lr, image_type='lr')\n",
        "\n",
        "# Calculate mean and std for HR images\n",
        "mean_value_hr, std_value_hr = calculate_mean_std(hr_image_paths)\n",
        "\n",
        "process_and_save_images(hr_image_paths, mean_value_hr, std_value_hr, image_type='hr')"
      ]
    },
    {
      "cell_type": "code",
      "execution_count": 5,
      "metadata": {},
      "outputs": [],
      "source": [
        "class DoubleConv(nn.Module):\n",
        "    def __init__(self, in_channels, out_channels, mid_channels=None):\n",
        "        super().__init__()\n",
        "        if not mid_channels:\n",
        "            mid_channels = out_channels\n",
        "        self.double_conv = nn.Sequential(\n",
        "            nn.Conv2d(in_channels, mid_channels, kernel_size=3, padding=1),\n",
        "            nn.BatchNorm2d(mid_channels),\n",
        "            nn.ReLU(inplace=True),\n",
        "            nn.Conv2d(mid_channels, out_channels, kernel_size=3, padding=1),\n",
        "            nn.BatchNorm2d(out_channels),\n",
        "            nn.ReLU(inplace=True)\n",
        "        )\n",
        "\n",
        "    def forward(self, x):\n",
        "        return self.double_conv(x)\n",
        "\n",
        "\n",
        "class UNet(nn.Module):\n",
        "    def __init__(self, n_channels, n_classes):\n",
        "        super(UNet, self).__init__()\n",
        "        # Encoder path\n",
        "        self.inc = DoubleConv(n_channels, 64)\n",
        "        self.down1 = nn.Sequential(nn.MaxPool2d(2), DoubleConv(64, 128))\n",
        "        self.down2 = nn.Sequential(nn.MaxPool2d(2), DoubleConv(128, 256))\n",
        "        self.down3 = nn.Sequential(nn.MaxPool2d(2), DoubleConv(256, 512))\n",
        "        self.down4 = nn.Sequential(nn.MaxPool2d(2), DoubleConv(512, 512))\n",
        "\n",
        "        # Decoder path\n",
        "        self.up1 = nn.ConvTranspose2d(512, 256, kernel_size=2, stride=2)\n",
        "        self.conv1 = DoubleConv(512, 256)  # Adjusted\n",
        "        self.up2 = nn.ConvTranspose2d(256, 128, kernel_size=2, stride=2)\n",
        "        self.conv2 = DoubleConv(256, 128)  # Adjusted\n",
        "        self.up3 = nn.ConvTranspose2d(128, 64, kernel_size=2, stride=2)\n",
        "        self.conv3 = DoubleConv(128, 64)  # Adjusted\n",
        "        self.up4 = nn.ConvTranspose2d(64, 64, kernel_size=2, stride=2)\n",
        "        self.conv4 = DoubleConv(64, 64)\n",
        "\n",
        "        self.outc = nn.Conv2d(64, n_classes, kernel_size=1)\n",
        "\n",
        "    def forward(self, x):\n",
        "        # Encoder\n",
        "        x1 = self.inc(x)  # Shape: (B, 64, H, W)\n",
        "        x2 = self.down1(x1)  # Shape: (B, 128, H//2, W//2)\n",
        "        x3 = self.down2(x2)  # Shape: (B, 256, H//4, W//4)\n",
        "        x4 = self.down3(x3)  # Shape: (B, 512, H//8, W//8)\n",
        "        x5 = self.down4(x4)  # Shape: (B, 512, H//16, W//16)\n",
        "\n",
        "        # Decoder\n",
        "        x = self.up1(x5)  # Upsampling to match x3\n",
        "        if x.shape[2:] != x3.shape[2:]:\n",
        "            # Adjust x spatial dimensions to match x3\n",
        "            diff = [x3.shape[2] - x.shape[2], x3.shape[3] - x.shape[3]]\n",
        "            x = nn.functional.pad(x, [diff[1] // 2, diff[1] - diff[1] // 2, diff[0] // 2, diff[0] - diff[0] // 2])\n",
        "\n",
        "        # Concatenation and further processing\n",
        "        x = torch.cat([x, x3], dim=1)  # Concatenating after padding if necessary\n",
        "        x = self.conv1(x)\n",
        "\n",
        "        x = self.up2(x)  # Upsampling to match x2\n",
        "        if x.shape[2:] != x2.shape[2:]:\n",
        "            diff = [x2.shape[2] - x.shape[2], x2.shape[3] - x.shape[3]]\n",
        "            x = nn.functional.pad(x, [diff[1] // 2, diff[1] - diff[1] // 2, diff[0] // 2, diff[0] - diff[0] // 2])\n",
        "        \n",
        "        x = torch.cat([x, x2], dim=1)  # Concatenating after padding if necessary\n",
        "        x = self.conv2(x)\n",
        "\n",
        "        x = self.up3(x)  # Upsampling to match x1\n",
        "        if x.shape[2:] != x1.shape[2:]:\n",
        "            diff = [x1.shape[2] - x.shape[2], x1.shape[3] - x.shape[3]]\n",
        "            x = nn.functional.pad(x, [diff[1] // 2, diff[1] - diff[1] // 2, diff[0] // 2, diff[0] - diff[0] // 2])\n",
        "        \n",
        "        x = torch.cat([x, x1], dim=1)  # Concatenating after padding if necessary\n",
        "        x = self.conv3(x)\n",
        "\n",
        "        x = self.up4(x)  # Final upsampling\n",
        "        x = self.conv4(x)  # Final convolutions\n",
        "        \n",
        "        logits = self.outc(x)  # Final output\n",
        "        \n",
        "        return logits\n"
      ]
    },
    {
      "cell_type": "code",
      "execution_count": 6,
      "metadata": {},
      "outputs": [],
      "source": [
        "class NumpyDataset(Dataset):\n",
        "    def __init__(self, lr_images, hr_images):\n",
        "        self.lr_images = lr_images\n",
        "        self.hr_images = hr_images\n",
        "\n",
        "    def __len__(self):\n",
        "        return len(self.lr_images)\n",
        "\n",
        "    def __getitem__(self, idx):\n",
        "        lr_image = np.load(self.lr_images[idx]).astype(np.float32)\n",
        "        hr_image = np.load(self.hr_images[idx]).astype(np.float32)\n",
        "       \n",
        "        if lr_image.shape[0] == 400:  \n",
        "            lr_image = lr_image[0]  # first slice \n",
        "\n",
        "        \n",
        "        hr_image = np.expand_dims(hr_image, axis=0)  \n",
        "        lr_image = np.expand_dims(lr_image, axis=0)\n",
        "\n",
        "        return torch.from_numpy(lr_image), torch.from_numpy(hr_image)\n",
        "\n"
      ]
    },
    {
      "cell_type": "markdown",
      "metadata": {},
      "source": [
        "there are NaN's in the data"
      ]
    },
    {
      "cell_type": "code",
      "execution_count": 7,
      "metadata": {},
      "outputs": [
        {
          "name": "stderr",
          "output_type": "stream",
          "text": [
            "Training: 100%|██████████| 144/144 [03:43<00:00,  1.55s/it]\n",
            "Validation: 100%|██████████| 36/36 [00:33<00:00,  1.07it/s]\n"
          ]
        },
        {
          "name": "stdout",
          "output_type": "stream",
          "text": [
            "Epoch 1/100 - Training Loss: 3328493.5122, Validation Loss: 2517235.5833\n"
          ]
        },
        {
          "name": "stderr",
          "output_type": "stream",
          "text": [
            "Training: 100%|██████████| 144/144 [03:36<00:00,  1.50s/it]\n",
            "Validation: 100%|██████████| 36/36 [00:33<00:00,  1.08it/s]\n"
          ]
        },
        {
          "name": "stdout",
          "output_type": "stream",
          "text": [
            "Epoch 2/100 - Training Loss: 3323517.8038, Validation Loss: 2515460.4722\n"
          ]
        },
        {
          "name": "stderr",
          "output_type": "stream",
          "text": [
            "Training: 100%|██████████| 144/144 [03:28<00:00,  1.44s/it]\n",
            "Validation: 100%|██████████| 36/36 [00:33<00:00,  1.09it/s]\n"
          ]
        },
        {
          "name": "stdout",
          "output_type": "stream",
          "text": [
            "Epoch 3/100 - Training Loss: 3317070.2908, Validation Loss: 2508071.4653\n"
          ]
        },
        {
          "name": "stderr",
          "output_type": "stream",
          "text": [
            "Training: 100%|██████████| 144/144 [03:27<00:00,  1.44s/it]\n",
            "Validation: 100%|██████████| 36/36 [00:32<00:00,  1.09it/s]\n"
          ]
        },
        {
          "name": "stdout",
          "output_type": "stream",
          "text": [
            "Epoch 4/100 - Training Loss: 3309631.9141, Validation Loss: 2493409.2431\n"
          ]
        },
        {
          "name": "stderr",
          "output_type": "stream",
          "text": [
            "Training: 100%|██████████| 144/144 [03:28<00:00,  1.45s/it]\n",
            "Validation: 100%|██████████| 36/36 [00:32<00:00,  1.11it/s]\n"
          ]
        },
        {
          "name": "stdout",
          "output_type": "stream",
          "text": [
            "Epoch 5/100 - Training Loss: 3300453.0373, Validation Loss: 2487322.3785\n"
          ]
        },
        {
          "name": "stderr",
          "output_type": "stream",
          "text": [
            "Training: 100%|██████████| 144/144 [03:28<00:00,  1.45s/it]\n",
            "Validation: 100%|██████████| 36/36 [00:32<00:00,  1.09it/s]\n"
          ]
        },
        {
          "name": "stdout",
          "output_type": "stream",
          "text": [
            "Epoch 6/100 - Training Loss: 3289785.3681, Validation Loss: 2489388.5278\n"
          ]
        },
        {
          "name": "stderr",
          "output_type": "stream",
          "text": [
            "Training: 100%|██████████| 144/144 [03:29<00:00,  1.46s/it]\n",
            "Validation: 100%|██████████| 36/36 [00:32<00:00,  1.09it/s]\n"
          ]
        },
        {
          "name": "stdout",
          "output_type": "stream",
          "text": [
            "Epoch 7/100 - Training Loss: 3277019.5590, Validation Loss: 2479123.4792\n"
          ]
        },
        {
          "name": "stderr",
          "output_type": "stream",
          "text": [
            "Training: 100%|██████████| 144/144 [03:29<00:00,  1.46s/it]\n",
            "Validation: 100%|██████████| 36/36 [00:32<00:00,  1.10it/s]\n"
          ]
        },
        {
          "name": "stdout",
          "output_type": "stream",
          "text": [
            "Epoch 8/100 - Training Loss: 3263328.2318, Validation Loss: 2485536.8438\n"
          ]
        },
        {
          "name": "stderr",
          "output_type": "stream",
          "text": [
            "Training: 100%|██████████| 144/144 [03:28<00:00,  1.45s/it]\n",
            "Validation: 100%|██████████| 36/36 [00:32<00:00,  1.10it/s]\n"
          ]
        },
        {
          "name": "stdout",
          "output_type": "stream",
          "text": [
            "Epoch 9/100 - Training Loss: 3247306.6970, Validation Loss: 2452163.1806\n"
          ]
        },
        {
          "name": "stderr",
          "output_type": "stream",
          "text": [
            "Training: 100%|██████████| 144/144 [03:26<00:00,  1.43s/it]\n",
            "Validation: 100%|██████████| 36/36 [00:32<00:00,  1.11it/s]\n"
          ]
        },
        {
          "name": "stdout",
          "output_type": "stream",
          "text": [
            "Epoch 10/100 - Training Loss: 3229654.2604, Validation Loss: 2416435.8333\n"
          ]
        },
        {
          "name": "stderr",
          "output_type": "stream",
          "text": [
            "Training: 100%|██████████| 144/144 [03:28<00:00,  1.45s/it]\n",
            "Validation: 100%|██████████| 36/36 [00:32<00:00,  1.09it/s]\n"
          ]
        },
        {
          "name": "stdout",
          "output_type": "stream",
          "text": [
            "Epoch 11/100 - Training Loss: 3210625.8611, Validation Loss: 2385426.6458\n"
          ]
        },
        {
          "name": "stderr",
          "output_type": "stream",
          "text": [
            "Training: 100%|██████████| 144/144 [03:25<00:00,  1.43s/it]\n",
            "Validation: 100%|██████████| 36/36 [00:32<00:00,  1.11it/s]\n"
          ]
        },
        {
          "name": "stdout",
          "output_type": "stream",
          "text": [
            "Epoch 12/100 - Training Loss: 3189716.1128, Validation Loss: 2409040.6632\n"
          ]
        },
        {
          "name": "stderr",
          "output_type": "stream",
          "text": [
            "Training: 100%|██████████| 144/144 [03:27<00:00,  1.44s/it]\n",
            "Validation: 100%|██████████| 36/36 [00:32<00:00,  1.12it/s]\n"
          ]
        },
        {
          "name": "stdout",
          "output_type": "stream",
          "text": [
            "Epoch 13/100 - Training Loss: 3168509.2951, Validation Loss: 2413356.4931\n"
          ]
        },
        {
          "name": "stderr",
          "output_type": "stream",
          "text": [
            "Training: 100%|██████████| 144/144 [03:29<00:00,  1.45s/it]\n",
            "Validation: 100%|██████████| 36/36 [00:32<00:00,  1.10it/s]\n"
          ]
        },
        {
          "name": "stdout",
          "output_type": "stream",
          "text": [
            "Epoch 14/100 - Training Loss: 3145169.6380, Validation Loss: 2377221.3750\n"
          ]
        },
        {
          "name": "stderr",
          "output_type": "stream",
          "text": [
            "Training: 100%|██████████| 144/144 [03:28<00:00,  1.45s/it]\n",
            "Validation: 100%|██████████| 36/36 [00:32<00:00,  1.11it/s]\n"
          ]
        },
        {
          "name": "stdout",
          "output_type": "stream",
          "text": [
            "Epoch 15/100 - Training Loss: 3118036.7687, Validation Loss: 2335216.6424\n"
          ]
        },
        {
          "name": "stderr",
          "output_type": "stream",
          "text": [
            "Training: 100%|██████████| 144/144 [03:28<00:00,  1.45s/it]\n",
            "Validation: 100%|██████████| 36/36 [00:32<00:00,  1.12it/s]\n"
          ]
        },
        {
          "name": "stdout",
          "output_type": "stream",
          "text": [
            "Epoch 16/100 - Training Loss: 3094332.4418, Validation Loss: 2320809.8194\n"
          ]
        },
        {
          "name": "stderr",
          "output_type": "stream",
          "text": [
            "Training: 100%|██████████| 144/144 [03:29<00:00,  1.45s/it]\n",
            "Validation: 100%|██████████| 36/36 [00:33<00:00,  1.08it/s]\n"
          ]
        },
        {
          "name": "stdout",
          "output_type": "stream",
          "text": [
            "Epoch 17/100 - Training Loss: 3064465.2947, Validation Loss: 2287972.9896\n"
          ]
        },
        {
          "name": "stderr",
          "output_type": "stream",
          "text": [
            "Training: 100%|██████████| 144/144 [03:39<00:00,  1.52s/it]\n",
            "Validation: 100%|██████████| 36/36 [00:33<00:00,  1.08it/s]\n"
          ]
        },
        {
          "name": "stdout",
          "output_type": "stream",
          "text": [
            "Epoch 18/100 - Training Loss: 3035234.1094, Validation Loss: 2305842.0729\n"
          ]
        },
        {
          "name": "stderr",
          "output_type": "stream",
          "text": [
            "Training: 100%|██████████| 144/144 [03:31<00:00,  1.47s/it]\n",
            "Validation: 100%|██████████| 36/36 [00:32<00:00,  1.10it/s]\n"
          ]
        },
        {
          "name": "stdout",
          "output_type": "stream",
          "text": [
            "Epoch 19/100 - Training Loss: 3010609.1602, Validation Loss: 2329844.8542\n"
          ]
        },
        {
          "name": "stderr",
          "output_type": "stream",
          "text": [
            "Training: 100%|██████████| 144/144 [03:27<00:00,  1.44s/it]\n",
            "Validation: 100%|██████████| 36/36 [00:32<00:00,  1.11it/s]\n"
          ]
        },
        {
          "name": "stdout",
          "output_type": "stream",
          "text": [
            "Epoch 20/100 - Training Loss: 2977184.1055, Validation Loss: 2262966.6910\n"
          ]
        },
        {
          "name": "stderr",
          "output_type": "stream",
          "text": [
            "Training: 100%|██████████| 144/144 [03:28<00:00,  1.45s/it]\n",
            "Validation: 100%|██████████| 36/36 [00:32<00:00,  1.09it/s]\n"
          ]
        },
        {
          "name": "stdout",
          "output_type": "stream",
          "text": [
            "Epoch 21/100 - Training Loss: 2944907.5447, Validation Loss: 2194718.0521\n"
          ]
        },
        {
          "name": "stderr",
          "output_type": "stream",
          "text": [
            "Training: 100%|██████████| 144/144 [03:27<00:00,  1.44s/it]\n",
            "Validation: 100%|██████████| 36/36 [00:32<00:00,  1.10it/s]\n"
          ]
        },
        {
          "name": "stdout",
          "output_type": "stream",
          "text": [
            "Epoch 22/100 - Training Loss: 2913540.1866, Validation Loss: 2161061.7326\n"
          ]
        },
        {
          "name": "stderr",
          "output_type": "stream",
          "text": [
            "Training: 100%|██████████| 144/144 [03:27<00:00,  1.44s/it]\n",
            "Validation: 100%|██████████| 36/36 [00:32<00:00,  1.10it/s]\n"
          ]
        },
        {
          "name": "stdout",
          "output_type": "stream",
          "text": [
            "Epoch 23/100 - Training Loss: 2881908.0825, Validation Loss: 2114907.7083\n"
          ]
        },
        {
          "name": "stderr",
          "output_type": "stream",
          "text": [
            "Training: 100%|██████████| 144/144 [03:27<00:00,  1.44s/it]\n",
            "Validation: 100%|██████████| 36/36 [00:32<00:00,  1.12it/s]\n"
          ]
        },
        {
          "name": "stdout",
          "output_type": "stream",
          "text": [
            "Epoch 24/100 - Training Loss: 2844664.2530, Validation Loss: 2098907.4444\n"
          ]
        },
        {
          "name": "stderr",
          "output_type": "stream",
          "text": [
            "Training: 100%|██████████| 144/144 [03:26<00:00,  1.44s/it]\n",
            "Validation: 100%|██████████| 36/36 [00:32<00:00,  1.10it/s]\n"
          ]
        },
        {
          "name": "stdout",
          "output_type": "stream",
          "text": [
            "Epoch 25/100 - Training Loss: 2807850.1545, Validation Loss: 2048706.9635\n"
          ]
        },
        {
          "name": "stderr",
          "output_type": "stream",
          "text": [
            "Training: 100%|██████████| 144/144 [03:27<00:00,  1.44s/it]\n",
            "Validation: 100%|██████████| 36/36 [00:32<00:00,  1.12it/s]\n"
          ]
        },
        {
          "name": "stdout",
          "output_type": "stream",
          "text": [
            "Epoch 26/100 - Training Loss: 2772821.1441, Validation Loss: 2092009.6823\n"
          ]
        },
        {
          "name": "stderr",
          "output_type": "stream",
          "text": [
            "Training: 100%|██████████| 144/144 [03:28<00:00,  1.45s/it]\n",
            "Validation: 100%|██████████| 36/36 [00:32<00:00,  1.10it/s]\n"
          ]
        },
        {
          "name": "stdout",
          "output_type": "stream",
          "text": [
            "Epoch 27/100 - Training Loss: 2735011.5152, Validation Loss: 2053619.7101\n"
          ]
        },
        {
          "name": "stderr",
          "output_type": "stream",
          "text": [
            "Training: 100%|██████████| 144/144 [03:27<00:00,  1.44s/it]\n",
            "Validation: 100%|██████████| 36/36 [00:32<00:00,  1.10it/s]\n"
          ]
        },
        {
          "name": "stdout",
          "output_type": "stream",
          "text": [
            "Epoch 28/100 - Training Loss: 2695680.4310, Validation Loss: 1979536.7361\n"
          ]
        },
        {
          "name": "stderr",
          "output_type": "stream",
          "text": [
            "Training: 100%|██████████| 144/144 [03:27<00:00,  1.44s/it]\n",
            "Validation: 100%|██████████| 36/36 [00:32<00:00,  1.10it/s]\n"
          ]
        },
        {
          "name": "stdout",
          "output_type": "stream",
          "text": [
            "Epoch 29/100 - Training Loss: 2660734.4340, Validation Loss: 1948510.1528\n"
          ]
        },
        {
          "name": "stderr",
          "output_type": "stream",
          "text": [
            "Training: 100%|██████████| 144/144 [03:27<00:00,  1.44s/it]\n",
            "Validation: 100%|██████████| 36/36 [00:32<00:00,  1.10it/s]\n"
          ]
        },
        {
          "name": "stdout",
          "output_type": "stream",
          "text": [
            "Epoch 30/100 - Training Loss: 2619728.9839, Validation Loss: 2082596.4271\n"
          ]
        },
        {
          "name": "stderr",
          "output_type": "stream",
          "text": [
            "Training: 100%|██████████| 144/144 [03:27<00:00,  1.44s/it]\n",
            "Validation: 100%|██████████| 36/36 [00:32<00:00,  1.09it/s]\n"
          ]
        },
        {
          "name": "stdout",
          "output_type": "stream",
          "text": [
            "Epoch 31/100 - Training Loss: 2584459.7036, Validation Loss: 1955516.4653\n"
          ]
        },
        {
          "name": "stderr",
          "output_type": "stream",
          "text": [
            "Training: 100%|██████████| 144/144 [03:28<00:00,  1.44s/it]\n",
            "Validation: 100%|██████████| 36/36 [00:32<00:00,  1.10it/s]\n"
          ]
        },
        {
          "name": "stdout",
          "output_type": "stream",
          "text": [
            "Epoch 32/100 - Training Loss: 2544085.7352, Validation Loss: 1881870.3941\n"
          ]
        },
        {
          "name": "stderr",
          "output_type": "stream",
          "text": [
            "Training: 100%|██████████| 144/144 [03:29<00:00,  1.46s/it]\n",
            "Validation: 100%|██████████| 36/36 [00:32<00:00,  1.10it/s]\n"
          ]
        },
        {
          "name": "stdout",
          "output_type": "stream",
          "text": [
            "Epoch 33/100 - Training Loss: 2502705.0877, Validation Loss: 1841737.1667\n"
          ]
        },
        {
          "name": "stderr",
          "output_type": "stream",
          "text": [
            "Training: 100%|██████████| 144/144 [03:27<00:00,  1.44s/it]\n",
            "Validation: 100%|██████████| 36/36 [00:32<00:00,  1.10it/s]\n"
          ]
        },
        {
          "name": "stdout",
          "output_type": "stream",
          "text": [
            "Epoch 34/100 - Training Loss: 2461821.5208, Validation Loss: 1823982.5191\n"
          ]
        },
        {
          "name": "stderr",
          "output_type": "stream",
          "text": [
            "Training: 100%|██████████| 144/144 [03:27<00:00,  1.44s/it]\n",
            "Validation: 100%|██████████| 36/36 [00:32<00:00,  1.10it/s]\n"
          ]
        },
        {
          "name": "stdout",
          "output_type": "stream",
          "text": [
            "Epoch 35/100 - Training Loss: 2423685.7474, Validation Loss: 1701388.0573\n"
          ]
        },
        {
          "name": "stderr",
          "output_type": "stream",
          "text": [
            "Training: 100%|██████████| 144/144 [03:27<00:00,  1.44s/it]\n",
            "Validation: 100%|██████████| 36/36 [00:32<00:00,  1.10it/s]\n"
          ]
        },
        {
          "name": "stdout",
          "output_type": "stream",
          "text": [
            "Epoch 36/100 - Training Loss: 2384891.8546, Validation Loss: 1669366.7934\n"
          ]
        },
        {
          "name": "stderr",
          "output_type": "stream",
          "text": [
            "Training: 100%|██████████| 144/144 [03:27<00:00,  1.44s/it]\n",
            "Validation: 100%|██████████| 36/36 [00:32<00:00,  1.11it/s]\n"
          ]
        },
        {
          "name": "stdout",
          "output_type": "stream",
          "text": [
            "Epoch 37/100 - Training Loss: 2340339.9470, Validation Loss: 1682503.2899\n"
          ]
        },
        {
          "name": "stderr",
          "output_type": "stream",
          "text": [
            "Training: 100%|██████████| 144/144 [03:27<00:00,  1.44s/it]\n",
            "Validation: 100%|██████████| 36/36 [00:32<00:00,  1.10it/s]\n"
          ]
        },
        {
          "name": "stdout",
          "output_type": "stream",
          "text": [
            "Epoch 38/100 - Training Loss: 2297501.0052, Validation Loss: 1662779.9983\n"
          ]
        },
        {
          "name": "stderr",
          "output_type": "stream",
          "text": [
            "Training: 100%|██████████| 144/144 [03:27<00:00,  1.44s/it]\n",
            "Validation: 100%|██████████| 36/36 [00:32<00:00,  1.10it/s]\n"
          ]
        },
        {
          "name": "stdout",
          "output_type": "stream",
          "text": [
            "Epoch 39/100 - Training Loss: 2258145.0295, Validation Loss: 1583672.5260\n"
          ]
        },
        {
          "name": "stderr",
          "output_type": "stream",
          "text": [
            "Training: 100%|██████████| 144/144 [03:27<00:00,  1.44s/it]\n",
            "Validation: 100%|██████████| 36/36 [00:32<00:00,  1.12it/s]\n"
          ]
        },
        {
          "name": "stdout",
          "output_type": "stream",
          "text": [
            "Epoch 40/100 - Training Loss: 2215304.8095, Validation Loss: 1494353.6753\n"
          ]
        },
        {
          "name": "stderr",
          "output_type": "stream",
          "text": [
            "Training: 100%|██████████| 144/144 [03:27<00:00,  1.44s/it]\n",
            "Validation: 100%|██████████| 36/36 [00:32<00:00,  1.10it/s]\n"
          ]
        },
        {
          "name": "stdout",
          "output_type": "stream",
          "text": [
            "Epoch 41/100 - Training Loss: 2181929.0920, Validation Loss: 1485662.0295\n"
          ]
        },
        {
          "name": "stderr",
          "output_type": "stream",
          "text": [
            "Training: 100%|██████████| 144/144 [03:27<00:00,  1.44s/it]\n",
            "Validation: 100%|██████████| 36/36 [00:32<00:00,  1.10it/s]\n"
          ]
        },
        {
          "name": "stdout",
          "output_type": "stream",
          "text": [
            "Epoch 42/100 - Training Loss: 2143456.0933, Validation Loss: 1604544.5625\n"
          ]
        },
        {
          "name": "stderr",
          "output_type": "stream",
          "text": [
            "Training: 100%|██████████| 144/144 [03:27<00:00,  1.44s/it]\n",
            "Validation: 100%|██████████| 36/36 [00:32<00:00,  1.12it/s]\n"
          ]
        },
        {
          "name": "stdout",
          "output_type": "stream",
          "text": [
            "Epoch 43/100 - Training Loss: 2102797.8498, Validation Loss: 1512567.5885\n"
          ]
        },
        {
          "name": "stderr",
          "output_type": "stream",
          "text": [
            "Training: 100%|██████████| 144/144 [03:27<00:00,  1.44s/it]\n",
            "Validation: 100%|██████████| 36/36 [00:32<00:00,  1.10it/s]\n"
          ]
        },
        {
          "name": "stdout",
          "output_type": "stream",
          "text": [
            "Epoch 44/100 - Training Loss: 2059786.3485, Validation Loss: 1432179.0799\n"
          ]
        },
        {
          "name": "stderr",
          "output_type": "stream",
          "text": [
            "Training: 100%|██████████| 144/144 [03:27<00:00,  1.44s/it]\n",
            "Validation: 100%|██████████| 36/36 [00:32<00:00,  1.11it/s]\n"
          ]
        },
        {
          "name": "stdout",
          "output_type": "stream",
          "text": [
            "Epoch 45/100 - Training Loss: 2019559.4145, Validation Loss: 1565035.4462\n"
          ]
        },
        {
          "name": "stderr",
          "output_type": "stream",
          "text": [
            "Training: 100%|██████████| 144/144 [03:35<00:00,  1.50s/it]\n",
            "Validation: 100%|██████████| 36/36 [00:33<00:00,  1.06it/s]\n"
          ]
        },
        {
          "name": "stdout",
          "output_type": "stream",
          "text": [
            "Epoch 46/100 - Training Loss: 1980895.3717, Validation Loss: 1394290.3438\n"
          ]
        },
        {
          "name": "stderr",
          "output_type": "stream",
          "text": [
            "Training: 100%|██████████| 144/144 [03:32<00:00,  1.48s/it]\n",
            "Validation: 100%|██████████| 36/36 [00:32<00:00,  1.12it/s]\n"
          ]
        },
        {
          "name": "stdout",
          "output_type": "stream",
          "text": [
            "Epoch 47/100 - Training Loss: 1944992.9924, Validation Loss: 1409550.1701\n"
          ]
        },
        {
          "name": "stderr",
          "output_type": "stream",
          "text": [
            "Training: 100%|██████████| 144/144 [03:28<00:00,  1.45s/it]\n",
            "Validation: 100%|██████████| 36/36 [00:32<00:00,  1.10it/s]\n"
          ]
        },
        {
          "name": "stdout",
          "output_type": "stream",
          "text": [
            "Epoch 48/100 - Training Loss: 1903122.7993, Validation Loss: 1272058.3247\n"
          ]
        },
        {
          "name": "stderr",
          "output_type": "stream",
          "text": [
            "Training: 100%|██████████| 144/144 [03:27<00:00,  1.44s/it]\n",
            "Validation: 100%|██████████| 36/36 [00:32<00:00,  1.12it/s]\n"
          ]
        },
        {
          "name": "stdout",
          "output_type": "stream",
          "text": [
            "Epoch 49/100 - Training Loss: 1864736.8500, Validation Loss: 1363232.6302\n"
          ]
        },
        {
          "name": "stderr",
          "output_type": "stream",
          "text": [
            "Training: 100%|██████████| 144/144 [03:26<00:00,  1.43s/it]\n",
            "Validation: 100%|██████████| 36/36 [00:32<00:00,  1.12it/s]\n"
          ]
        },
        {
          "name": "stdout",
          "output_type": "stream",
          "text": [
            "Epoch 50/100 - Training Loss: 1828453.7183, Validation Loss: 1391996.0747\n"
          ]
        },
        {
          "name": "stderr",
          "output_type": "stream",
          "text": [
            "Training: 100%|██████████| 144/144 [03:27<00:00,  1.44s/it]\n",
            "Validation: 100%|██████████| 36/36 [00:32<00:00,  1.10it/s]\n"
          ]
        },
        {
          "name": "stdout",
          "output_type": "stream",
          "text": [
            "Epoch 51/100 - Training Loss: 1788583.7318, Validation Loss: 1240733.2665\n"
          ]
        },
        {
          "name": "stderr",
          "output_type": "stream",
          "text": [
            "Training: 100%|██████████| 144/144 [03:28<00:00,  1.45s/it]\n",
            "Validation: 100%|██████████| 36/36 [00:32<00:00,  1.10it/s]\n"
          ]
        },
        {
          "name": "stdout",
          "output_type": "stream",
          "text": [
            "Epoch 52/100 - Training Loss: 1759227.1048, Validation Loss: 1146616.8785\n"
          ]
        },
        {
          "name": "stderr",
          "output_type": "stream",
          "text": [
            "Training: 100%|██████████| 144/144 [03:29<00:00,  1.46s/it]\n",
            "Validation: 100%|██████████| 36/36 [00:33<00:00,  1.07it/s]\n"
          ]
        },
        {
          "name": "stdout",
          "output_type": "stream",
          "text": [
            "Epoch 53/100 - Training Loss: 1716697.5783, Validation Loss: 1224270.8299\n"
          ]
        },
        {
          "name": "stderr",
          "output_type": "stream",
          "text": [
            "Training: 100%|██████████| 144/144 [03:34<00:00,  1.49s/it]\n",
            "Validation: 100%|██████████| 36/36 [00:33<00:00,  1.08it/s]\n"
          ]
        },
        {
          "name": "stdout",
          "output_type": "stream",
          "text": [
            "Epoch 54/100 - Training Loss: 1676129.1311, Validation Loss: 1134141.1771\n"
          ]
        },
        {
          "name": "stderr",
          "output_type": "stream",
          "text": [
            "Training: 100%|██████████| 144/144 [03:27<00:00,  1.44s/it]\n",
            "Validation: 100%|██████████| 36/36 [00:32<00:00,  1.10it/s]\n"
          ]
        },
        {
          "name": "stdout",
          "output_type": "stream",
          "text": [
            "Epoch 55/100 - Training Loss: 1655630.5009, Validation Loss: 1053887.4696\n"
          ]
        },
        {
          "name": "stderr",
          "output_type": "stream",
          "text": [
            "Training: 100%|██████████| 144/144 [03:25<00:00,  1.43s/it]\n",
            "Validation: 100%|██████████| 36/36 [00:32<00:00,  1.10it/s]\n"
          ]
        },
        {
          "name": "stdout",
          "output_type": "stream",
          "text": [
            "Epoch 56/100 - Training Loss: 1621462.9622, Validation Loss: 1018919.4731\n"
          ]
        },
        {
          "name": "stderr",
          "output_type": "stream",
          "text": [
            "Training: 100%|██████████| 144/144 [03:28<00:00,  1.45s/it]\n",
            "Validation: 100%|██████████| 36/36 [00:32<00:00,  1.11it/s]\n"
          ]
        },
        {
          "name": "stdout",
          "output_type": "stream",
          "text": [
            "Epoch 57/100 - Training Loss: 1587001.6556, Validation Loss: 1069356.4618\n"
          ]
        },
        {
          "name": "stderr",
          "output_type": "stream",
          "text": [
            "Training: 100%|██████████| 144/144 [03:27<00:00,  1.44s/it]\n",
            "Validation: 100%|██████████| 36/36 [00:32<00:00,  1.11it/s]\n"
          ]
        },
        {
          "name": "stdout",
          "output_type": "stream",
          "text": [
            "Epoch 58/100 - Training Loss: 1535492.1745, Validation Loss: 1099972.4653\n"
          ]
        },
        {
          "name": "stderr",
          "output_type": "stream",
          "text": [
            "Training: 100%|██████████| 144/144 [03:24<00:00,  1.42s/it]\n",
            "Validation: 100%|██████████| 36/36 [00:32<00:00,  1.11it/s]\n"
          ]
        },
        {
          "name": "stdout",
          "output_type": "stream",
          "text": [
            "Epoch 59/100 - Training Loss: 1513443.5938, Validation Loss: 1084149.9583\n"
          ]
        },
        {
          "name": "stderr",
          "output_type": "stream",
          "text": [
            "Training: 100%|██████████| 144/144 [03:27<00:00,  1.44s/it]\n",
            "Validation: 100%|██████████| 36/36 [00:32<00:00,  1.09it/s]\n"
          ]
        },
        {
          "name": "stdout",
          "output_type": "stream",
          "text": [
            "Epoch 60/100 - Training Loss: 1475997.8003, Validation Loss: 892407.3607\n"
          ]
        },
        {
          "name": "stderr",
          "output_type": "stream",
          "text": [
            "Training: 100%|██████████| 144/144 [03:28<00:00,  1.45s/it]\n",
            "Validation: 100%|██████████| 36/36 [00:32<00:00,  1.10it/s]\n"
          ]
        },
        {
          "name": "stdout",
          "output_type": "stream",
          "text": [
            "Epoch 61/100 - Training Loss: 1446032.2543, Validation Loss: 1194102.9149\n"
          ]
        },
        {
          "name": "stderr",
          "output_type": "stream",
          "text": [
            "Training: 100%|██████████| 144/144 [03:26<00:00,  1.43s/it]\n",
            "Validation: 100%|██████████| 36/36 [00:32<00:00,  1.10it/s]\n"
          ]
        },
        {
          "name": "stdout",
          "output_type": "stream",
          "text": [
            "Epoch 62/100 - Training Loss: 1430011.2287, Validation Loss: 949267.5608\n"
          ]
        },
        {
          "name": "stderr",
          "output_type": "stream",
          "text": [
            "Training: 100%|██████████| 144/144 [03:29<00:00,  1.45s/it]\n",
            "Validation: 100%|██████████| 36/36 [00:32<00:00,  1.10it/s]\n"
          ]
        },
        {
          "name": "stdout",
          "output_type": "stream",
          "text": [
            "Epoch 63/100 - Training Loss: 1380267.7126, Validation Loss: 916313.2387\n"
          ]
        },
        {
          "name": "stderr",
          "output_type": "stream",
          "text": [
            "Training: 100%|██████████| 144/144 [03:28<00:00,  1.45s/it]\n",
            "Validation: 100%|██████████| 36/36 [00:32<00:00,  1.10it/s]\n"
          ]
        },
        {
          "name": "stdout",
          "output_type": "stream",
          "text": [
            "Epoch 64/100 - Training Loss: 1359968.6831, Validation Loss: 1004210.6780\n"
          ]
        },
        {
          "name": "stderr",
          "output_type": "stream",
          "text": [
            "Training: 100%|██████████| 144/144 [03:33<00:00,  1.49s/it]\n",
            "Validation: 100%|██████████| 36/36 [00:33<00:00,  1.09it/s]\n"
          ]
        },
        {
          "name": "stdout",
          "output_type": "stream",
          "text": [
            "Epoch 65/100 - Training Loss: 1329670.1681, Validation Loss: 985484.2222\n"
          ]
        },
        {
          "name": "stderr",
          "output_type": "stream",
          "text": [
            "Training: 100%|██████████| 144/144 [03:36<00:00,  1.51s/it]\n",
            "Validation: 100%|██████████| 36/36 [00:32<00:00,  1.11it/s]\n"
          ]
        },
        {
          "name": "stdout",
          "output_type": "stream",
          "text": [
            "Epoch 66/100 - Training Loss: 1308283.0259, Validation Loss: 936260.5286\n"
          ]
        },
        {
          "name": "stderr",
          "output_type": "stream",
          "text": [
            "Training: 100%|██████████| 144/144 [03:26<00:00,  1.44s/it]\n",
            "Validation: 100%|██████████| 36/36 [00:32<00:00,  1.10it/s]\n"
          ]
        },
        {
          "name": "stdout",
          "output_type": "stream",
          "text": [
            "Epoch 67/100 - Training Loss: 1278278.1187, Validation Loss: 927272.3420\n"
          ]
        },
        {
          "name": "stderr",
          "output_type": "stream",
          "text": [
            "Training: 100%|██████████| 144/144 [03:29<00:00,  1.45s/it]\n",
            "Validation: 100%|██████████| 36/36 [00:32<00:00,  1.10it/s]\n"
          ]
        },
        {
          "name": "stdout",
          "output_type": "stream",
          "text": [
            "Epoch 68/100 - Training Loss: 1243757.9934, Validation Loss: 827753.9787\n"
          ]
        },
        {
          "name": "stderr",
          "output_type": "stream",
          "text": [
            "Training: 100%|██████████| 144/144 [03:27<00:00,  1.44s/it]\n",
            "Validation: 100%|██████████| 36/36 [00:32<00:00,  1.10it/s]\n"
          ]
        },
        {
          "name": "stdout",
          "output_type": "stream",
          "text": [
            "Epoch 69/100 - Training Loss: 1213505.6219, Validation Loss: 652729.1480\n"
          ]
        },
        {
          "name": "stderr",
          "output_type": "stream",
          "text": [
            "Training: 100%|██████████| 144/144 [03:27<00:00,  1.44s/it]\n",
            "Validation: 100%|██████████| 36/36 [00:32<00:00,  1.11it/s]\n"
          ]
        },
        {
          "name": "stdout",
          "output_type": "stream",
          "text": [
            "Epoch 70/100 - Training Loss: 1202803.4375, Validation Loss: 693605.7721\n"
          ]
        },
        {
          "name": "stderr",
          "output_type": "stream",
          "text": [
            "Training: 100%|██████████| 144/144 [03:28<00:00,  1.45s/it]\n",
            "Validation: 100%|██████████| 36/36 [00:32<00:00,  1.10it/s]\n"
          ]
        },
        {
          "name": "stdout",
          "output_type": "stream",
          "text": [
            "Epoch 71/100 - Training Loss: 1177281.4787, Validation Loss: 719853.3251\n"
          ]
        },
        {
          "name": "stderr",
          "output_type": "stream",
          "text": [
            "Training: 100%|██████████| 144/144 [03:29<00:00,  1.46s/it]\n",
            "Validation: 100%|██████████| 36/36 [00:32<00:00,  1.10it/s]\n"
          ]
        },
        {
          "name": "stdout",
          "output_type": "stream",
          "text": [
            "Epoch 72/100 - Training Loss: 1139827.3099, Validation Loss: 841472.8733\n"
          ]
        },
        {
          "name": "stderr",
          "output_type": "stream",
          "text": [
            "Training: 100%|██████████| 144/144 [03:29<00:00,  1.46s/it]\n",
            "Validation: 100%|██████████| 36/36 [00:32<00:00,  1.10it/s]\n"
          ]
        },
        {
          "name": "stdout",
          "output_type": "stream",
          "text": [
            "Epoch 73/100 - Training Loss: 1147892.4963, Validation Loss: 745819.5273\n"
          ]
        },
        {
          "name": "stderr",
          "output_type": "stream",
          "text": [
            "Training: 100%|██████████| 144/144 [03:27<00:00,  1.44s/it]\n",
            "Validation: 100%|██████████| 36/36 [00:32<00:00,  1.10it/s]\n"
          ]
        },
        {
          "name": "stdout",
          "output_type": "stream",
          "text": [
            "Epoch 74/100 - Training Loss: 1106030.9728, Validation Loss: 810690.7131\n"
          ]
        },
        {
          "name": "stderr",
          "output_type": "stream",
          "text": [
            "Training: 100%|██████████| 144/144 [03:28<00:00,  1.45s/it]\n",
            "Validation: 100%|██████████| 36/36 [00:32<00:00,  1.12it/s]\n"
          ]
        },
        {
          "name": "stdout",
          "output_type": "stream",
          "text": [
            "Epoch 75/100 - Training Loss: 1099354.8857, Validation Loss: 648064.1623\n"
          ]
        },
        {
          "name": "stderr",
          "output_type": "stream",
          "text": [
            "Training: 100%|██████████| 144/144 [03:28<00:00,  1.45s/it]\n",
            "Validation: 100%|██████████| 36/36 [00:32<00:00,  1.10it/s]\n"
          ]
        },
        {
          "name": "stdout",
          "output_type": "stream",
          "text": [
            "Epoch 76/100 - Training Loss: 1052440.9280, Validation Loss: 615012.2986\n"
          ]
        },
        {
          "name": "stderr",
          "output_type": "stream",
          "text": [
            "Training: 100%|██████████| 144/144 [03:29<00:00,  1.46s/it]\n",
            "Validation: 100%|██████████| 36/36 [00:32<00:00,  1.12it/s]\n"
          ]
        },
        {
          "name": "stdout",
          "output_type": "stream",
          "text": [
            "Epoch 77/100 - Training Loss: 1056408.0459, Validation Loss: 704958.6350\n"
          ]
        },
        {
          "name": "stderr",
          "output_type": "stream",
          "text": [
            "Training: 100%|██████████| 144/144 [03:26<00:00,  1.44s/it]\n",
            "Validation: 100%|██████████| 36/36 [00:32<00:00,  1.10it/s]\n"
          ]
        },
        {
          "name": "stdout",
          "output_type": "stream",
          "text": [
            "Epoch 78/100 - Training Loss: 1042769.6047, Validation Loss: 596733.9683\n"
          ]
        },
        {
          "name": "stderr",
          "output_type": "stream",
          "text": [
            "Training: 100%|██████████| 144/144 [03:27<00:00,  1.44s/it]\n",
            "Validation: 100%|██████████| 36/36 [00:32<00:00,  1.10it/s]\n"
          ]
        },
        {
          "name": "stdout",
          "output_type": "stream",
          "text": [
            "Epoch 79/100 - Training Loss: 1001638.2728, Validation Loss: 635004.9844\n"
          ]
        },
        {
          "name": "stderr",
          "output_type": "stream",
          "text": [
            "Training: 100%|██████████| 144/144 [03:28<00:00,  1.45s/it]\n",
            "Validation: 100%|██████████| 36/36 [00:32<00:00,  1.10it/s]\n"
          ]
        },
        {
          "name": "stdout",
          "output_type": "stream",
          "text": [
            "Epoch 80/100 - Training Loss: 998224.0011, Validation Loss: 560580.0143\n"
          ]
        },
        {
          "name": "stderr",
          "output_type": "stream",
          "text": [
            "Training: 100%|██████████| 144/144 [03:28<00:00,  1.45s/it]\n",
            "Validation: 100%|██████████| 36/36 [00:32<00:00,  1.10it/s]\n"
          ]
        },
        {
          "name": "stdout",
          "output_type": "stream",
          "text": [
            "Epoch 81/100 - Training Loss: 982076.1519, Validation Loss: 656938.2140\n"
          ]
        },
        {
          "name": "stderr",
          "output_type": "stream",
          "text": [
            "Training: 100%|██████████| 144/144 [03:29<00:00,  1.45s/it]\n",
            "Validation: 100%|██████████| 36/36 [00:32<00:00,  1.10it/s]\n"
          ]
        },
        {
          "name": "stdout",
          "output_type": "stream",
          "text": [
            "Epoch 82/100 - Training Loss: 960174.4859, Validation Loss: 573237.3934\n"
          ]
        },
        {
          "name": "stderr",
          "output_type": "stream",
          "text": [
            "Training: 100%|██████████| 144/144 [03:27<00:00,  1.44s/it]\n",
            "Validation: 100%|██████████| 36/36 [00:32<00:00,  1.10it/s]\n"
          ]
        },
        {
          "name": "stdout",
          "output_type": "stream",
          "text": [
            "Epoch 83/100 - Training Loss: 946658.8981, Validation Loss: 706820.9779\n"
          ]
        },
        {
          "name": "stderr",
          "output_type": "stream",
          "text": [
            "Training: 100%|██████████| 144/144 [03:28<00:00,  1.44s/it]\n",
            "Validation: 100%|██████████| 36/36 [00:32<00:00,  1.09it/s]\n"
          ]
        },
        {
          "name": "stdout",
          "output_type": "stream",
          "text": [
            "Epoch 84/100 - Training Loss: 947672.2418, Validation Loss: 578210.3533\n"
          ]
        },
        {
          "name": "stderr",
          "output_type": "stream",
          "text": [
            "Training: 100%|██████████| 144/144 [03:27<00:00,  1.44s/it]\n",
            "Validation: 100%|██████████| 36/36 [00:32<00:00,  1.11it/s]\n"
          ]
        },
        {
          "name": "stdout",
          "output_type": "stream",
          "text": [
            "Epoch 85/100 - Training Loss: 916158.4581, Validation Loss: 591755.6623\n"
          ]
        },
        {
          "name": "stderr",
          "output_type": "stream",
          "text": [
            "Training: 100%|██████████| 144/144 [03:27<00:00,  1.44s/it]\n",
            "Validation: 100%|██████████| 36/36 [00:32<00:00,  1.10it/s]\n"
          ]
        },
        {
          "name": "stdout",
          "output_type": "stream",
          "text": [
            "Epoch 86/100 - Training Loss: 897674.1387, Validation Loss: 586806.2131\n"
          ]
        },
        {
          "name": "stderr",
          "output_type": "stream",
          "text": [
            "Training: 100%|██████████| 144/144 [03:35<00:00,  1.50s/it]\n",
            "Validation: 100%|██████████| 36/36 [00:32<00:00,  1.10it/s]\n"
          ]
        },
        {
          "name": "stdout",
          "output_type": "stream",
          "text": [
            "Epoch 87/100 - Training Loss: 901492.9076, Validation Loss: 538579.5512\n"
          ]
        },
        {
          "name": "stderr",
          "output_type": "stream",
          "text": [
            "Training: 100%|██████████| 144/144 [03:33<00:00,  1.48s/it]\n",
            "Validation: 100%|██████████| 36/36 [00:32<00:00,  1.10it/s]\n"
          ]
        },
        {
          "name": "stdout",
          "output_type": "stream",
          "text": [
            "Epoch 88/100 - Training Loss: 857507.3448, Validation Loss: 589030.5933\n"
          ]
        },
        {
          "name": "stderr",
          "output_type": "stream",
          "text": [
            "Training: 100%|██████████| 144/144 [03:28<00:00,  1.45s/it]\n",
            "Validation: 100%|██████████| 36/36 [00:32<00:00,  1.10it/s]\n"
          ]
        },
        {
          "name": "stdout",
          "output_type": "stream",
          "text": [
            "Epoch 89/100 - Training Loss: 871778.5614, Validation Loss: 491407.9518\n"
          ]
        },
        {
          "name": "stderr",
          "output_type": "stream",
          "text": [
            "Training: 100%|██████████| 144/144 [03:28<00:00,  1.45s/it]\n",
            "Validation: 100%|██████████| 36/36 [00:32<00:00,  1.11it/s]\n"
          ]
        },
        {
          "name": "stdout",
          "output_type": "stream",
          "text": [
            "Epoch 90/100 - Training Loss: 839724.5192, Validation Loss: 547432.5119\n"
          ]
        },
        {
          "name": "stderr",
          "output_type": "stream",
          "text": [
            "Training: 100%|██████████| 144/144 [03:27<00:00,  1.44s/it]\n",
            "Validation: 100%|██████████| 36/36 [00:32<00:00,  1.10it/s]\n"
          ]
        },
        {
          "name": "stdout",
          "output_type": "stream",
          "text": [
            "Epoch 91/100 - Training Loss: 836034.4102, Validation Loss: 538407.5013\n"
          ]
        },
        {
          "name": "stderr",
          "output_type": "stream",
          "text": [
            "Training: 100%|██████████| 144/144 [03:28<00:00,  1.45s/it]\n",
            "Validation: 100%|██████████| 36/36 [00:32<00:00,  1.12it/s]\n"
          ]
        },
        {
          "name": "stdout",
          "output_type": "stream",
          "text": [
            "Epoch 92/100 - Training Loss: 828259.5865, Validation Loss: 564599.9089\n"
          ]
        },
        {
          "name": "stderr",
          "output_type": "stream",
          "text": [
            "Training: 100%|██████████| 144/144 [03:27<00:00,  1.44s/it]\n",
            "Validation: 100%|██████████| 36/36 [00:32<00:00,  1.10it/s]\n"
          ]
        },
        {
          "name": "stdout",
          "output_type": "stream",
          "text": [
            "Epoch 93/100 - Training Loss: 817743.9703, Validation Loss: 503914.4457\n"
          ]
        },
        {
          "name": "stderr",
          "output_type": "stream",
          "text": [
            "Training: 100%|██████████| 144/144 [03:36<00:00,  1.50s/it]\n",
            "Validation: 100%|██████████| 36/36 [00:33<00:00,  1.08it/s]\n"
          ]
        },
        {
          "name": "stdout",
          "output_type": "stream",
          "text": [
            "Epoch 94/100 - Training Loss: 811406.8280, Validation Loss: 528183.4403\n"
          ]
        },
        {
          "name": "stderr",
          "output_type": "stream",
          "text": [
            "Training: 100%|██████████| 144/144 [03:31<00:00,  1.47s/it]\n",
            "Validation: 100%|██████████| 36/36 [00:32<00:00,  1.10it/s]\n"
          ]
        },
        {
          "name": "stdout",
          "output_type": "stream",
          "text": [
            "Epoch 95/100 - Training Loss: 783615.9303, Validation Loss: 635351.4453\n"
          ]
        },
        {
          "name": "stderr",
          "output_type": "stream",
          "text": [
            "Training: 100%|██████████| 144/144 [03:27<00:00,  1.44s/it]\n",
            "Validation: 100%|██████████| 36/36 [00:32<00:00,  1.10it/s]\n"
          ]
        },
        {
          "name": "stdout",
          "output_type": "stream",
          "text": [
            "Epoch 96/100 - Training Loss: 792527.8621, Validation Loss: 490298.4336\n"
          ]
        },
        {
          "name": "stderr",
          "output_type": "stream",
          "text": [
            "Training: 100%|██████████| 144/144 [03:28<00:00,  1.45s/it]\n",
            "Validation: 100%|██████████| 36/36 [00:32<00:00,  1.10it/s]\n"
          ]
        },
        {
          "name": "stdout",
          "output_type": "stream",
          "text": [
            "Epoch 97/100 - Training Loss: 786483.4285, Validation Loss: 515790.9703\n"
          ]
        },
        {
          "name": "stderr",
          "output_type": "stream",
          "text": [
            "Training: 100%|██████████| 144/144 [03:27<00:00,  1.44s/it]\n",
            "Validation: 100%|██████████| 36/36 [00:32<00:00,  1.10it/s]\n"
          ]
        },
        {
          "name": "stdout",
          "output_type": "stream",
          "text": [
            "Epoch 98/100 - Training Loss: 793703.9778, Validation Loss: 489133.3997\n"
          ]
        },
        {
          "name": "stderr",
          "output_type": "stream",
          "text": [
            "Training: 100%|██████████| 144/144 [03:27<00:00,  1.44s/it]\n",
            "Validation: 100%|██████████| 36/36 [00:32<00:00,  1.11it/s]\n"
          ]
        },
        {
          "name": "stdout",
          "output_type": "stream",
          "text": [
            "Epoch 99/100 - Training Loss: 765524.5039, Validation Loss: 497384.5480\n"
          ]
        },
        {
          "name": "stderr",
          "output_type": "stream",
          "text": [
            "Training: 100%|██████████| 144/144 [03:27<00:00,  1.44s/it]\n",
            "Validation: 100%|██████████| 36/36 [00:32<00:00,  1.10it/s]"
          ]
        },
        {
          "name": "stdout",
          "output_type": "stream",
          "text": [
            "Epoch 100/100 - Training Loss: 774718.5665, Validation Loss: 507749.1901\n"
          ]
        },
        {
          "name": "stderr",
          "output_type": "stream",
          "text": [
            "\n"
          ]
        }
      ],
      "source": [
        "dataset = NumpyDataset(lr_image_paths, hr_image_paths)\n",
        "\n",
        "train_proportion = 0.8\n",
        "\n",
        "# Calculate the number of samples for train and validation\n",
        "total_images = len(dataset)\n",
        "train_count = int(total_images * train_proportion)\n",
        "valid_count = total_images - train_count\n",
        "\n",
        "# Split the dataset\n",
        "train_dataset, valid_dataset = random_split(dataset, [train_count, valid_count])\n",
        "\n",
        "# Smaller batch size to reduce memory usage\n",
        "batch_size = 2  # Adjust as needed\n",
        "\n",
        "# DataLoader with smaller batch size\n",
        "train_dataloader = DataLoader(train_dataset, batch_size=batch_size, shuffle=True)\n",
        "valid_dataloader = DataLoader(valid_dataset, batch_size=batch_size, shuffle=False)\n",
        "\n",
        "# Model, loss, and optimizer initialization\n",
        "model = UNet(n_channels=1, n_classes=1)\n",
        "if torch.cuda.is_available():\n",
        "    model.cuda()\n",
        "\n",
        "criterion = nn.MSELoss()\n",
        "optimizer = optim.Adam(model.parameters(), lr=0.001)\n",
        "\n",
        "# Gradient accumulation steps for reduced memory usage\n",
        "accumulation_steps = 4  \n",
        "\n",
        "# Training loop with gradient accumulation\n",
        "n_epochs = 100\n",
        "for epoch in range(n_epochs):\n",
        "    model.train()  # Ensure the model is in training mode\n",
        "    optimizer.zero_grad()  # Reset gradients\n",
        "    train_loss = 0  # Initialize train_loss to track loss accumulation for the epoch\n",
        "\n",
        "    for i, (lr_images, hr_images) in enumerate(tqdm(train_dataloader, desc='Training')):\n",
        "        # Convert to CUDA tensors if needed\n",
        "        if torch.cuda.is_available():\n",
        "            lr_images = lr_images.cuda()\n",
        "            hr_images = hr_images.cuda()\n",
        "\n",
        "        outputs = model(lr_images)\n",
        "        loss = criterion(outputs, hr_images)\n",
        "        loss.backward()  # Accumulate gradients\n",
        "\n",
        "        # Accumulate train_loss\n",
        "        train_loss += loss.item()\n",
        "\n",
        "        # Perform weight update after a certain number of batches\n",
        "        if (i + 1) % accumulation_steps == 0:\n",
        "            optimizer.step()  # Update model weights\n",
        "            optimizer.zero_grad()  # Clear accumulated gradients\n",
        "            torch.cuda.empty_cache()  # Clear unused memory\n",
        "\n",
        "    # Calculate the average train_loss over all batches in the epoch\n",
        "    avg_train_loss = train_loss / len(train_dataloader)\n",
        "\n",
        "    # Validation loop\n",
        "    model.eval()  # Switch to evaluation mode\n",
        "    valid_loss = 0\n",
        "    with torch.no_grad():  # Disable gradients for validation\n",
        "        for lr_images, hr_images in tqdm(valid_dataloader, desc='Validation'):\n",
        "            if torch.cuda.is_available():\n",
        "                lr_images = lr_images.cuda()\n",
        "                hr_images = hr_images.cuda()\n",
        "\n",
        "            outputs = model(lr_images)\n",
        "            loss = criterion(outputs, hr_images)\n",
        "            valid_loss += loss.item()\n",
        "\n",
        "    # Calculate the average valid_loss over all batches in the epoch\n",
        "    avg_valid_loss = valid_loss / len(valid_dataloader)\n",
        "\n",
        "    # Print epoch statistics\n",
        "    print(f\"Epoch {epoch + 1}/{n_epochs} - Training Loss: {avg_train_loss:.4f}, Validation Loss: {avg_valid_loss:.4f}\")\n",
        "\n",
        "    # Free up memory after epoch\n",
        "    torch.cuda.empty_cache()\n",
        "\n",
        "# Save the trained model\n",
        "torch.save(model.state_dict(), 'denoising_unet_model.pth')"
      ]
    }
  ],
  "metadata": {
    "accelerator": "GPU",
    "colab": {
      "gpuType": "T4",
      "provenance": []
    },
    "kernelspec": {
      "display_name": "Python 3",
      "name": "python3"
    },
    "language_info": {
      "codemirror_mode": {
        "name": "ipython",
        "version": 3
      },
      "file_extension": ".py",
      "mimetype": "text/x-python",
      "name": "python",
      "nbconvert_exporter": "python",
      "pygments_lexer": "ipython3",
      "version": "3.11.8"
    }
  },
  "nbformat": 4,
  "nbformat_minor": 0
}
